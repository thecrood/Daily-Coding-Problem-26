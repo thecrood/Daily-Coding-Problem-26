{
 "cells": [
  {
   "cell_type": "markdown",
   "id": "52b72217",
   "metadata": {},
   "source": [
    "# Daily Coding Problem 26"
   ]
  },
  {
   "cell_type": "raw",
   "id": "cb8fd6f4",
   "metadata": {},
   "source": [
    "This problem was asked by Google.\n",
    "\n",
    "Given a singly linked list and an integer k, remove the kth last element from the list. k is guaranteed to be smaller than the length of the list.\n",
    "\n",
    "The list is very long, so making more than one pass is prohibitively expensive.\n",
    "\n",
    "Do this in constant space and in one pass."
   ]
  },
  {
   "cell_type": "markdown",
   "id": "ad49f5c7",
   "metadata": {},
   "source": [
    "# Solution\n",
    "\n",
    "If we didn't have the constraint of needing only to make one pass, this problem would be trivial to implement. We could simply iterate over the whole list to find out the total length N of the list, and then restart from the beginning and iterate N - k steps and remove the node there. That would take constant space as well.\n",
    "\n",
    "However, given that we have the constraint of needing to make only one pass, we have to find some way of getting the N - kth node in the list in one shot.\n",
    "\n",
    "What we can do, then, is this:\n",
    "\n",
    " * Set up two pointers at the head of the list (let's call them fast and slow)\n",
    " * Move fast up by k\n",
    " * Move both fast and slow together until fast reaches the end of the list\n",
    " * Now slow is at the N - kth node, remove it\n",
    "                                                \n",
    "That only makes one pass and is constant time. The code should look something like this:\n"
   ]
  },
  {
   "cell_type": "code",
   "execution_count": 8,
   "id": "2a675966",
   "metadata": {},
   "outputs": [
    {
     "name": "stdout",
     "output_type": "stream",
     "text": [
      "[1, 2, 3, 4, 5, 6]\n",
      "[1, 2, 3, 5, 6]\n"
     ]
    }
   ],
   "source": [
    "class Node:\n",
    "    def __init__(self, val, next=None):\n",
    "        self.val = val\n",
    "        self.next = next\n",
    "\n",
    "    def __str__(self):\n",
    "        current_node = self\n",
    "        result = []\n",
    "        while current_node:\n",
    "            result.append(current_node.val)\n",
    "            current_node = current_node.next\n",
    "        return str(result)\n",
    "\n",
    "def remove_kth_from_linked_list(head, k):\n",
    "    slow, fast = head, head\n",
    "    for i in range(k):\n",
    "        fast = fast.next\n",
    "\n",
    "    prev = None\n",
    "    while fast:\n",
    "        prev = slow\n",
    "        slow = slow.next\n",
    "        fast = fast.next\n",
    "\n",
    "    prev.next = slow.next\n",
    "\n",
    "head = Node(1, Node(2, Node(3, Node(4, Node(5, Node(6))))))\n",
    "print(head)\n",
    "remove_kth_from_linked_list(head, 3)\n",
    "print(head)"
   ]
  },
  {
   "cell_type": "code",
   "execution_count": null,
   "id": "153e42b7",
   "metadata": {},
   "outputs": [],
   "source": []
  },
  {
   "cell_type": "code",
   "execution_count": null,
   "id": "3eb01aaf",
   "metadata": {},
   "outputs": [],
   "source": []
  }
 ],
 "metadata": {
  "kernelspec": {
   "display_name": "Python 3 (ipykernel)",
   "language": "python",
   "name": "python3"
  },
  "language_info": {
   "codemirror_mode": {
    "name": "ipython",
    "version": 3
   },
   "file_extension": ".py",
   "mimetype": "text/x-python",
   "name": "python",
   "nbconvert_exporter": "python",
   "pygments_lexer": "ipython3",
   "version": "3.8.10"
  }
 },
 "nbformat": 4,
 "nbformat_minor": 5
}
